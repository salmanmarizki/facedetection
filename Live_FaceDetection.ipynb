{
 "cells": [
  {
   "cell_type": "code",
   "execution_count": 1,
   "metadata": {},
   "outputs": [],
   "source": [
    "# Live feed object detection\n",
    "import cv2\n",
    "\n",
    "# create a new cam object\n",
    "cap = cv2.VideoCapture(0)\n",
    "\n",
    "# initialize the face recognizer (default face haar cascade)\n",
    "face_cascade = cv2.CascadeClassifier(\"cascades/haarcascade_frontalface_default.xml\")\n",
    "\n",
    "while True:\n",
    "    # read the image from the cam\n",
    "    _, image = cap.read()\n",
    "    # converting to grayscale\n",
    "    image_gray = cv2.cvtColor(image, cv2.COLOR_BGR2GRAY)\n",
    "\n",
    "    # detect all the faces in the image\n",
    "    faces = face_cascade.detectMultiScale(image_gray, 1.3, 5)\n",
    "\n",
    "    # for every face, draw a blue rectangle\n",
    "    for x, y, width, height in faces:\n",
    "        cv2.rectangle(image, (x, y), (x + width, y + height), color=(0, 255, 255), thickness=5)\n",
    "\n",
    "    cv2.imshow(\"image\", image)\n",
    "\n",
    "    if cv2.waitKey(1) == ord(\"q\"):\n",
    "        break\n",
    "\n",
    "cap.release()\n",
    "cv2.destroyAllWindows()"
   ]
  },
  {
   "cell_type": "code",
   "execution_count": null,
   "metadata": {},
   "outputs": [],
   "source": []
  }
 ],
 "metadata": {
  "kernelspec": {
   "display_name": "Python 3",
   "language": "python",
   "name": "python3"
  },
  "language_info": {
   "codemirror_mode": {
    "name": "ipython",
    "version": 3
   },
   "file_extension": ".py",
   "mimetype": "text/x-python",
   "name": "python",
   "nbconvert_exporter": "python",
   "pygments_lexer": "ipython3",
   "version": "3.7.4"
  }
 },
 "nbformat": 4,
 "nbformat_minor": 2
}
