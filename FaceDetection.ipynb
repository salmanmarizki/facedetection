{
 "cells": [
  {
   "cell_type": "code",
   "execution_count": 1,
   "metadata": {},
   "outputs": [],
   "source": [
    "import cv2 as cv\n",
    "import numpy as np\n",
    "\n",
    "# Import the classifier\n",
    "face_cascade = cv.CascadeClassifier('cascades/haarcascade_frontalface_default.xml')\n",
    "eye_cascade = cv.CascadeClassifier('cascades/haarcascade_eye.xml')\n",
    "# glasses_cascade = cv.CascadeClassifier('cascades/haarcascade_eye_tree_eyeglasses.xml')\n",
    "\n",
    "# Get the test image\n",
    "image = cv.imread('faces/kids.jpeg')\n",
    "\n",
    "# converting to grayscale\n",
    "image_gray = cv.cvtColor(image, cv.COLOR_BGR2GRAY)\n",
    "\n",
    "# detect all the faces & eyes in the image\n"
   ]
  },
  {
   "cell_type": "code",
   "execution_count": 2,
   "metadata": {},
   "outputs": [
    {
     "name": "stdout",
     "output_type": "stream",
     "text": [
      "5 faces detected in the image.\n",
      "11 eyes detected in the image.\n"
     ]
    }
   ],
   "source": [
    "faces = face_cascade.detectMultiScale(image_gray)\n",
    "eyes = eye_cascade.detectMultiScale(image_gray)\n",
    "# print the number of faces & eyes detected\n",
    "print(f\"{len(faces)} faces detected in the image.\")\n",
    "print(f\"{len(eyes)} eyes detected in the image.\")\n",
    "\n"
   ]
  },
  {
   "cell_type": "code",
   "execution_count": 4,
   "metadata": {},
   "outputs": [
    {
     "data": {
      "text/plain": [
       "True"
      ]
     },
     "execution_count": 4,
     "metadata": {},
     "output_type": "execute_result"
    }
   ],
   "source": [
    "# for every face, draw a blue rectangle\n",
    "for (x,y,w,h) in faces:\n",
    "    cv.rectangle(image,(x,y),(x+w,y+h),(255,0,0),2)\n",
    "    roi_gray = image_gray[y:y+h, x:x+w]\n",
    "    roi_color = image[y:y+h, x:x+w]\n",
    "    eyes = eye_cascade.detectMultiScale(roi_gray)\n",
    "    for (ex,ey,ew,eh) in eyes:\n",
    "        cv.rectangle(roi_color,(ex,ey),(ex+ew,ey+eh),(0,255,0),2)\n",
    "    \n",
    "# save the image with rectangles\n",
    "cv.imwrite(\"faces/kids_detected.jpg\", image)"
   ]
  },
  {
   "cell_type": "code",
   "execution_count": 2,
   "metadata": {},
   "outputs": [],
   "source": []
  },
  {
   "cell_type": "code",
   "execution_count": null,
   "metadata": {},
   "outputs": [],
   "source": []
  }
 ],
 "metadata": {
  "kernelspec": {
   "display_name": "Python 3",
   "language": "python",
   "name": "python3"
  },
  "language_info": {
   "codemirror_mode": {
    "name": "ipython",
    "version": 3
   },
   "file_extension": ".py",
   "mimetype": "text/x-python",
   "name": "python",
   "nbconvert_exporter": "python",
   "pygments_lexer": "ipython3",
   "version": "3.7.4"
  }
 },
 "nbformat": 4,
 "nbformat_minor": 2
}
